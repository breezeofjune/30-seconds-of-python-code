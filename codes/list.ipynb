{
 "cells": [
  {
   "cell_type": "code",
   "execution_count": 2,
   "metadata": {},
   "outputs": [
    {
     "data": {
      "text/plain": [
       "[[1, 2], [3, 4], [5]]"
      ]
     },
     "execution_count": 2,
     "metadata": {},
     "output_type": "execute_result"
    }
   ],
   "source": [
    "# chunk\n",
    "import math\n",
    "def chunk1(arr, size):\n",
    "    return list(map(\n",
    "        lambda x: arr[x * size: (x + 1) * size], range(0, math.ceil(len(arr) / size))\n",
    "    ))\n",
    "chunk1([1, 2, 3, 4, 5], 2)"
   ]
  },
  {
   "cell_type": "code",
   "execution_count": 8,
   "metadata": {},
   "outputs": [
    {
     "data": {
      "text/plain": [
       "[[1, 2], [3, 4], [5]]"
      ]
     },
     "execution_count": 8,
     "metadata": {},
     "output_type": "execute_result"
    }
   ],
   "source": [
    "from itertools import islice\n",
    "def chunk2(iterable, size):\n",
    "    it = iter(iterable)\n",
    "    while True:\n",
    "        chunk = tuple(islice(it, size))\n",
    "        if not chunk:\n",
    "            return None\n",
    "        yield chunk\n",
    "chunk1([1, 2, 3, 4, 5], 2)"
   ]
  },
  {
   "cell_type": "code",
   "execution_count": 11,
   "metadata": {},
   "outputs": [
    {
     "data": {
      "text/plain": [
       "[1, 2, 3, 'a', 's', 34]"
      ]
     },
     "execution_count": 11,
     "metadata": {},
     "output_type": "execute_result"
    }
   ],
   "source": [
    "#compact\n",
    "def compact(iterable):\n",
    "    it = iter(iterable)\n",
    "    # Other method is using lambda x: bool(x)\n",
    "    # instead of lambda x: x\n",
    "    # which is more explicit\n",
    "    return list(filter(lambda x: x, it))\n",
    "compact([0, 1, False, 2, '', 3, 'a', 's', 34])"
   ]
  },
  {
   "cell_type": "code",
   "execution_count": 26,
   "metadata": {},
   "outputs": [
    {
     "data": {
      "text/plain": [
       "{3: 2, 5: 1}"
      ]
     },
     "execution_count": 26,
     "metadata": {},
     "output_type": "execute_result"
    }
   ],
   "source": [
    "# count_by\n",
    "import math\n",
    "from itertools import groupby\n",
    "def count_by(iterable, fn= lambda x: x):\n",
    "    return {i: len(list(k))for i, k in groupby(iterable, fn)}\n",
    "count_by(['one', 'two', 'three'], len)"
   ]
  },
  {
   "cell_type": "code",
   "execution_count": 29,
   "metadata": {},
   "outputs": [
    {
     "data": {
      "text/plain": [
       "3"
      ]
     },
     "execution_count": 29,
     "metadata": {},
     "output_type": "execute_result"
    }
   ],
   "source": [
    "from functools import reduce\n",
    "def count_occurrences(iterable, val):\n",
    "    return reduce(\n",
    "        lambda x, y: x + 1 if y == val and type(y) == type(val) else x + 0,\n",
    "        iterable\n",
    "    )\n",
    "count_occurrences([1, 1, 2, 1, 2, 3], 1) # 3"
   ]
  },
  {
   "cell_type": "code",
   "execution_count": 36,
   "metadata": {},
   "outputs": [
    {
     "data": {
      "text/plain": [
       "(1, 2, 3, 4, 5)"
      ]
     },
     "execution_count": 36,
     "metadata": {},
     "output_type": "execute_result"
    }
   ],
   "source": [
    "# deep flatten\n",
    "# In Python, if an object is iterable, eithor __iter__ or __getitem__ is included.\n",
    "# A better way is trying using it as a iterable, an exception is thrown when it isn't\n",
    "def spread(arg):\n",
    "    ret = []\n",
    "    for i in arg:\n",
    "        if isinstance(i, list):\n",
    "            ret.extend(i)\n",
    "        else:\n",
    "            ret.append(i)\n",
    "    return ret\n",
    "\n",
    "\n",
    "def deep_flatten(arr):\n",
    "    result = []\n",
    "    result.extend(\n",
    "        spread(list(map(lambda x: deep_flatten(x) if type(x) == list else x, arr))))\n",
    "    return result\n",
    "\n",
    "def flat(lst):\n",
    "    '''\n",
    "    return a tuple making from all values from the flatten list of lists (or tuple of tuples, etc.)\n",
    "    '''\n",
    "    return reduce(\n",
    "        lambda l, e: (\n",
    "            not isinstance(e, str) and (isinstance(e, list) or isinstance(e, tuple))) and l + flat(e) or l + (e,), lst, ())\n",
    "#deep_flatten([1, [2], [[3], 4], 5]) # [1,2,3,4,5]\n",
    "flat([1, [2], [[3], 4], 5])"
   ]
  },
  {
   "cell_type": "code",
   "execution_count": 37,
   "metadata": {},
   "outputs": [],
   "source": [
    "reduce?"
   ]
  },
  {
   "cell_type": "code",
   "execution_count": 1,
   "metadata": {},
   "outputs": [
    {
     "data": {
      "text/plain": [
       "[3]"
      ]
     },
     "execution_count": 1,
     "metadata": {},
     "output_type": "execute_result"
    }
   ],
   "source": [
    "def difference(a, b):\n",
    "    return list(\n",
    "        set(a) - set(b)\n",
    "    )\n",
    "difference([1, 2, 3], [1, 2, 4]) # [3]"
   ]
  },
  {
   "cell_type": "code",
   "execution_count": 4,
   "metadata": {},
   "outputs": [
    {
     "data": {
      "text/plain": [
       "[['a', 1, True], ['_', 2, False]]"
      ]
     },
     "execution_count": 4,
     "metadata": {},
     "output_type": "execute_result"
    }
   ],
   "source": [
    "def zip(*args, fill_value=None):\n",
    "    max_len = max([len(l) for l in args])\n",
    "    result = list()\n",
    "    for i in range(max_len):\n",
    "        result.append(\n",
    "            [args[k][i] if i < len(args[k]) else fill_value\n",
    "             for k in range(len(args))]\n",
    "        )\n",
    "    return result\n",
    "zip(['a'], [1, 2], [True, False], fill_value = '_') # [['a', 1, True], ['_', 2, False]]"
   ]
  },
  {
   "cell_type": "code",
   "execution_count": null,
   "metadata": {},
   "outputs": [],
   "source": []
  }
 ],
 "metadata": {
  "kernelspec": {
   "display_name": "Python 3",
   "language": "python",
   "name": "python3"
  },
  "language_info": {
   "codemirror_mode": {
    "name": "ipython",
    "version": 3
   },
   "file_extension": ".py",
   "mimetype": "text/x-python",
   "name": "python",
   "nbconvert_exporter": "python",
   "pygments_lexer": "ipython3",
   "version": "3.5.4"
  }
 },
 "nbformat": 4,
 "nbformat_minor": 2
}
